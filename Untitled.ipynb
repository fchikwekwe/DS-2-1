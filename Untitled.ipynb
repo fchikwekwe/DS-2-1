{
 "cells": [
  {
   "cell_type": "markdown",
   "metadata": {},
   "source": [
    "## Bag of Words or Document Term Matrix \n",
    "\n",
    "1. Obtain BOW\n",
    "2. Convert Bag of Words to TF IDF Matrix (using Scikit Learn) \n",
    "3. Each element in TF IDF matrix shows the word score in that sentences while considering the word appearance in other sentences \n",
    "4. Taking average column-wise and making them to keywords \n",
    "\n",
    "\n",
    "(Code to do this is in the TF IDF slide deck) \n"
   ]
  },
  {
   "cell_type": "code",
   "execution_count": null,
   "metadata": {},
   "outputs": [],
   "source": []
  }
 ],
 "metadata": {
  "kernelspec": {
   "display_name": "Python 3",
   "language": "python",
   "name": "python3"
  },
  "language_info": {
   "codemirror_mode": {
    "name": "ipython",
    "version": 3
   },
   "file_extension": ".py",
   "mimetype": "text/x-python",
   "name": "python",
   "nbconvert_exporter": "python",
   "pygments_lexer": "ipython3",
   "version": "3.7.1"
  }
 },
 "nbformat": 4,
 "nbformat_minor": 2
}
