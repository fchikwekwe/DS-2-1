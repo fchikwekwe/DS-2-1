{
 "cells": [
  {
   "cell_type": "markdown",
   "metadata": {},
   "source": [
    "# Model Evaluation\n",
    "### Evaluation Metrics / Confusion Metrics\n",
    "\n",
    "### RoboCop Results: \n",
    "- TP - True Positive \n",
    "- TN - True Negative \n",
    "- FP - False Positive \n",
    "- FN - False Negative\n",
    "\n",
    "\n",
    "- Shot Robbers (TP) = 3\n",
    "- Shot Innocents (FP) = 5\n",
    "- Safe Robbers (FN) = 1\n",
    "- Safe Innocents (TN) = 3\n",
    "\n",
    "### **Accuracy:** \n",
    "(TP + TN) / (TP + FP + TN + FN) \n",
    "\n",
    "**Correct values / All values** = 0.5\n",
    "\n",
    "### **Precision:**\n",
    "(TP) / (TP + FP)\n",
    "\n",
    "**Robbers shot / All people shot** = 0.375\n",
    "\n",
    "### **Recall:**\n",
    "(TP) / (FN + TP)\n",
    "\n",
    "**Robbers shot / All robbers** = 0.75 "
   ]
  },
  {
   "cell_type": "code",
   "execution_count": null,
   "metadata": {},
   "outputs": [],
   "source": []
  }
 ],
 "metadata": {
  "kernelspec": {
   "display_name": "Python 3",
   "language": "python",
   "name": "python3"
  },
  "language_info": {
   "codemirror_mode": {
    "name": "ipython",
    "version": 3
   },
   "file_extension": ".py",
   "mimetype": "text/x-python",
   "name": "python",
   "nbconvert_exporter": "python",
   "pygments_lexer": "ipython3",
   "version": "3.7.1"
  }
 },
 "nbformat": 4,
 "nbformat_minor": 2
}
