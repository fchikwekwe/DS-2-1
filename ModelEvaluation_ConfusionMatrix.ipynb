{
 "cells": [
  {
   "cell_type": "markdown",
   "metadata": {},
   "source": [
    "# Model Evaluation\n",
    "### Evaluation Metrics / Confusion Metrics\n",
    "\n",
    "### RoboCop Results: \n",
    "- TP - True Positive \n",
    "- TN - True Negative \n",
    "- FP - False Positive \n",
    "- FN - False Negative\n",
    "\n",
    "\n",
    "- Shot Robbers (TP) = 3\n",
    "- Shot Innocents (FP) = 5\n",
    "- Safe Robbers (FN) = 1\n",
    "- Safe Innocents (TN) = 3\n",
    "\n",
    "### **Accuracy:** \n",
    "(TP + TN) / (TP + FP + TN + FN) \n",
    "\n",
    "**Correct values / All values** = 0.5\n",
    "\n",
    "### **Precision:**\n",
    "(TP) / (TP + FP)\n",
    "\n",
    "**Robbers shot / All people shot** = 0.375\n",
    "\n",
    "### **Recall:**\n",
    "(TP) / (FN + TP)\n",
    "\n",
    "**Robbers shot / All robbers** = 0.75 "
   ]
  },
  {
   "cell_type": "code",
   "execution_count": 3,
   "metadata": {},
   "outputs": [],
   "source": [
    "import pandas as pd\n",
    "import numpy as np"
   ]
  },
  {
   "cell_type": "code",
   "execution_count": 4,
   "metadata": {},
   "outputs": [
    {
     "data": {
      "text/plain": [
       "[0.5, 0.375, 0.75, 0.5]"
      ]
     },
     "execution_count": 4,
     "metadata": {},
     "output_type": "execute_result"
    }
   ],
   "source": [
    "def evaluation_metrics(TP, FP, TN, FN):\n",
    "    \"\"\" \n",
    "    Params: TP = True positive, FP = False positive, TN = True negative, FN = False negative\n",
    "    Returns: Array with accuracy, precision, recall, F1_score\n",
    "    \"\"\"\n",
    "    metrics = []\n",
    "    \n",
    "    accuracy = (TP + TN) / (TP + TN + FP + FN)\n",
    "    metrics.append(accuracy)\n",
    "    \n",
    "    precision = (TP) / (TP + FP)\n",
    "    metrics.append(precision)\n",
    "    \n",
    "    recall = (TP) / (FN + TP)\n",
    "    metrics.append(recall)\n",
    "    \n",
    "    F1_score = 2 * precision * recall / (precision + recall)\n",
    "    metrics.append(F1_score)\n",
    "    \n",
    "    return metrics\n",
    "\n",
    "#calculate evaluation metrics of RoboCop data\n",
    "evaluation_metrics(3, 5, 3, 1)"
   ]
  },
  {
   "cell_type": "code",
   "execution_count": 5,
   "metadata": {},
   "outputs": [
    {
     "data": {
      "text/plain": [
       "[0.6927083333333334,\n",
       " 0.5555555555555556,\n",
       " 0.24193548387096775,\n",
       " 0.3370786516853933]"
      ]
     },
     "execution_count": 5,
     "metadata": {},
     "output_type": "execute_result"
    }
   ],
   "source": [
    "# results of diabetes confusion matrix\n",
    "confusion = np.array ([[118., 12.], [47., 15.]])\n",
    "\n",
    "TN = confusion[0, 0]\n",
    "FP = confusion[0, 1]\n",
    "FN = confusion[1, 0]\n",
    "TP = confusion[1, 1]\n",
    "\n",
    "#calculate the evaluation metrics of our diabetes data\n",
    "evaluation_metrics(TP, FP, TN, FN)"
   ]
  },
  {
   "cell_type": "code",
   "execution_count": null,
   "metadata": {},
   "outputs": [],
   "source": []
  }
 ],
 "metadata": {
  "kernelspec": {
   "display_name": "Python 3",
   "language": "python",
   "name": "python3"
  },
  "language_info": {
   "codemirror_mode": {
    "name": "ipython",
    "version": 3
   },
   "file_extension": ".py",
   "mimetype": "text/x-python",
   "name": "python",
   "nbconvert_exporter": "python",
   "pygments_lexer": "ipython3",
   "version": "3.7.1"
  }
 },
 "nbformat": 4,
 "nbformat_minor": 2
}
