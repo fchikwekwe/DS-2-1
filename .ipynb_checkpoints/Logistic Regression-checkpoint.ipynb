{
 "cells": [
  {
   "cell_type": "markdown",
   "metadata": {},
   "source": [
    "# Machine Learning and Stats technique\n",
    "\n",
    "StatQuest Video: https://www.youtube.com/watch?v=yIYKR4sgzI8\n",
    "\n",
    "#### - R squared can help to determine correlation and we can also use p values to determine confidence \n",
    "#### - Normal regression can use a single feature to predict a target value \n",
    "#### - Multiple regression uses multiple features to predict a single target value \n",
    "\n",
    "#### - Logistical regression predicts things that are true or false instead of continuous (e.g. obese vs not obese instead of weight and size)\n",
    "#### - Logistical regression is usually used for classification; we can also use use continuous data and discrete data as well an involving multiple features\n",
    "#### - We can use Wald's Test to determine if features are helpful for determining our target (if its effect is significantly different than zero) \n",
    "\n",
    "##### Question: How is statistical significance determined with regards to determining the helpfulness of features?"
   ]
  },
  {
   "cell_type": "code",
   "execution_count": null,
   "metadata": {},
   "outputs": [],
   "source": []
  }
 ],
 "metadata": {
  "kernelspec": {
   "display_name": "Python 3",
   "language": "python",
   "name": "python3"
  },
  "language_info": {
   "codemirror_mode": {
    "name": "ipython",
    "version": 3
   },
   "file_extension": ".py",
   "mimetype": "text/x-python",
   "name": "python",
   "nbconvert_exporter": "python",
   "pygments_lexer": "ipython3",
   "version": "3.7.1"
  }
 },
 "nbformat": 4,
 "nbformat_minor": 2
}
