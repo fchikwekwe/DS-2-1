{
 "cells": [
  {
   "cell_type": "code",
   "execution_count": 2,
   "metadata": {},
   "outputs": [],
   "source": [
    "import numpy as np\n",
    "X_train = np.array([[ 1., -1.,  2.], [ 2.,  0.,  0.], [ 0.,  1., -1.]])"
   ]
  },
  {
   "cell_type": "code",
   "execution_count": 11,
   "metadata": {},
   "outputs": [
    {
     "data": {
      "text/plain": [
       "(array([ 0.        ,  1.22474487, -1.22474487]),\n",
       " array([-1.22474487,  0.        ,  1.22474487]),\n",
       " array([ 1.33630621, -0.26726124, -1.06904497]))"
      ]
     },
     "execution_count": 11,
     "metadata": {},
     "output_type": "execute_result"
    }
   ],
   "source": [
    "# Take the original column (feature), subtract the mean and divide by the standard deviation\n",
    "# Python lists will make the columns into rows, we'll deal with that later\n",
    "a =(X_train[:,0] - X_train[:,0].mean()) / X_train[:,0].std()\n",
    "b =(X_train[:,1] - X_train[:,1].mean()) / X_train[:,1].std()\n",
    "c =(X_train[:,2] - X_train[:,2].mean()) / X_train[:,2].std()\n",
    "\n",
    "# a, b, c"
   ]
  },
  {
   "cell_type": "code",
   "execution_count": 18,
   "metadata": {},
   "outputs": [
    {
     "data": {
      "text/plain": [
       "array([[ 0.        , -1.22474487,  1.33630621],\n",
       "       [ 1.22474487,  0.        , -0.26726124],\n",
       "       [-1.22474487,  1.22474487, -1.06904497]])"
      ]
     },
     "execution_count": 18,
     "metadata": {},
     "output_type": "execute_result"
    }
   ],
   "source": [
    "a_b_c = (X_train - X_train.mean(axis = 0)) / X_train.std(axis = 0)\n",
    "a_b_c"
   ]
  },
  {
   "cell_type": "code",
   "execution_count": 20,
   "metadata": {},
   "outputs": [
    {
     "data": {
      "text/plain": [
       "array([[ 0.        ,  1.22474487, -1.22474487],\n",
       "       [-1.22474487,  0.        ,  1.22474487],\n",
       "       [ 1.33630621, -0.26726124, -1.06904497]])"
      ]
     },
     "execution_count": 20,
     "metadata": {},
     "output_type": "execute_result"
    }
   ],
   "source": [
    "# Invert the columns and the rows to make the data match the input\n",
    "np.transpose(a_b_c)\n",
    "# Another way to do it\n",
    "# np.c_(a_b_c)"
   ]
  },
  {
   "cell_type": "code",
   "execution_count": null,
   "metadata": {},
   "outputs": [],
   "source": []
  }
 ],
 "metadata": {
  "kernelspec": {
   "display_name": "Python 3",
   "language": "python",
   "name": "python3"
  },
  "language_info": {
   "codemirror_mode": {
    "name": "ipython",
    "version": 3
   },
   "file_extension": ".py",
   "mimetype": "text/x-python",
   "name": "python",
   "nbconvert_exporter": "python",
   "pygments_lexer": "ipython3",
   "version": "3.7.1"
  }
 },
 "nbformat": 4,
 "nbformat_minor": 2
}
